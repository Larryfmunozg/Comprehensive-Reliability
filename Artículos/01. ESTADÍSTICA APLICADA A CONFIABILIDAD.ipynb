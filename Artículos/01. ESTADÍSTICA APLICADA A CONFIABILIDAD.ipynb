{
 "cells": [
  {
   "cell_type": "markdown",
   "metadata": {},
   "source": [
    "## Aplicación de la estadística descriptica en la ingeniería de confiabilidad.\n",
    "\n",
    "### Ejercicio práctico de aplicación de la estadística descriptica en la ingeniería de confiabilidad por medio del uso de Python y sus librerías."
   ]
  },
  {
   "cell_type": "markdown",
   "metadata": {},
   "source": [
    "Para facilitar el aprendizaje de la teoría aquí planteada realizaremos un ejercicio con datos reales de parámetros que caracterizan los yacimientos de crudo. Esta data se utilizará a lo largo de las diferentes etapas de desarrollo de los ejercicios prácticos.\n",
    "\n",
    "***Ejercicio 1 - Distribuciones de Probabilidad***\n",
    "\n",
    "Para mostrar la aplicabilidad de Python en la estadística descriptiva, analizaremos los resultados de porosidad y niveles de arenas de 99 yacimientos reales con el fin de realizar un análisis completo de la información suministrada."
   ]
  },
  {
   "cell_type": "code",
   "execution_count": 1,
   "metadata": {},
   "outputs": [],
   "source": [
    "# Importamos las librerías necesarias para el trabajo con los datos\n",
    "import pandas as pd\n",
    "import numpy as np\n",
    "import matplotlib\n",
    "import matplotlib.pyplot as plt\n",
    "import math as mth"
   ]
  },
  {
   "cell_type": "code",
   "execution_count": 2,
   "metadata": {},
   "outputs": [
    {
     "data": {
      "text/html": [
       "<div>\n",
       "<style scoped>\n",
       "    .dataframe tbody tr th:only-of-type {\n",
       "        vertical-align: middle;\n",
       "    }\n",
       "\n",
       "    .dataframe tbody tr th {\n",
       "        vertical-align: top;\n",
       "    }\n",
       "\n",
       "    .dataframe thead th {\n",
       "        text-align: right;\n",
       "    }\n",
       "</style>\n",
       "<table border=\"1\" class=\"dataframe\">\n",
       "  <thead>\n",
       "    <tr style=\"text-align: right;\">\n",
       "      <th></th>\n",
       "      <th>POROSIDAD</th>\n",
       "      <th>ARENA</th>\n",
       "    </tr>\n",
       "  </thead>\n",
       "  <tbody>\n",
       "    <tr>\n",
       "      <th>0</th>\n",
       "      <td>0.2370</td>\n",
       "      <td>130.293</td>\n",
       "    </tr>\n",
       "    <tr>\n",
       "      <th>1</th>\n",
       "      <td>0.2266</td>\n",
       "      <td>37.000</td>\n",
       "    </tr>\n",
       "    <tr>\n",
       "      <th>2</th>\n",
       "      <td>0.2179</td>\n",
       "      <td>41.037</td>\n",
       "    </tr>\n",
       "    <tr>\n",
       "      <th>3</th>\n",
       "      <td>0.2240</td>\n",
       "      <td>52.500</td>\n",
       "    </tr>\n",
       "    <tr>\n",
       "      <th>4</th>\n",
       "      <td>0.2319</td>\n",
       "      <td>86.092</td>\n",
       "    </tr>\n",
       "    <tr>\n",
       "      <th>5</th>\n",
       "      <td>0.2400</td>\n",
       "      <td>43.223</td>\n",
       "    </tr>\n",
       "    <tr>\n",
       "      <th>6</th>\n",
       "      <td>0.2413</td>\n",
       "      <td>56.500</td>\n",
       "    </tr>\n",
       "    <tr>\n",
       "      <th>7</th>\n",
       "      <td>0.2436</td>\n",
       "      <td>24.035</td>\n",
       "    </tr>\n",
       "    <tr>\n",
       "      <th>8</th>\n",
       "      <td>0.2331</td>\n",
       "      <td>35.963</td>\n",
       "    </tr>\n",
       "    <tr>\n",
       "      <th>9</th>\n",
       "      <td>0.2376</td>\n",
       "      <td>35.864</td>\n",
       "    </tr>\n",
       "  </tbody>\n",
       "</table>\n",
       "</div>"
      ],
      "text/plain": [
       "   POROSIDAD    ARENA\n",
       "0     0.2370  130.293\n",
       "1     0.2266   37.000\n",
       "2     0.2179   41.037\n",
       "3     0.2240   52.500\n",
       "4     0.2319   86.092\n",
       "5     0.2400   43.223\n",
       "6     0.2413   56.500\n",
       "7     0.2436   24.035\n",
       "8     0.2331   35.963\n",
       "9     0.2376   35.864"
      ]
     },
     "execution_count": 2,
     "metadata": {},
     "output_type": "execute_result"
    }
   ],
   "source": [
    "# Importamos los datos del yacimiento\n",
    "\n",
    "DATA = pd.read_csv(\"EJERCICIO 1.csv\")\n",
    "DATA.head(10)"
   ]
  },
  {
   "cell_type": "code",
   "execution_count": 3,
   "metadata": {},
   "outputs": [],
   "source": [
    "#Aislamos la data en una variable porosidad y una para arena definimos el total de elementos de la serie\n",
    "porosidad = DATA[\"POROSIDAD\"]\n",
    "arena = DATA[\"ARENA\"]"
   ]
  },
  {
   "cell_type": "markdown",
   "metadata": {},
   "source": [
    "**1. Histograma de frecuencia**\n",
    "\n",
    "El histograma de frecuencias nos permite contestar preguntas como:\n",
    "\n",
    "¿Cuál es la probabilidad de que X tome un determinado valor xi?\n",
    "¿Cuál es el valor o el rango de valores de X con mayor probabilidad de ocurrencia?\n",
    "¿De qué manera se distribuyen los probables valores de X?"
   ]
  },
  {
   "cell_type": "code",
   "execution_count": 4,
   "metadata": {},
   "outputs": [
    {
     "name": "stdout",
     "output_type": "stream",
     "text": [
      "El numero correcto de clases es: 10\n"
     ]
    }
   ],
   "source": [
    "\"\"\"Primeramente calcularemos el parametro de clases para comparar con el resultado al construir el histrograma con los \n",
    "parametros por defecto\"\"\"\n",
    "\n",
    "# Contamos la cantidad de elementos de los datos de porosidad\n",
    "cant_elemt = porosidad.count()\n",
    "k = round(mth.sqrt(cant_elemt))\n",
    "print(\"El numero correcto de clases es: \" + str(k))"
   ]
  },
  {
   "cell_type": "code",
   "execution_count": 5,
   "metadata": {},
   "outputs": [
    {
     "data": {
      "image/png": "[encoded data removed]",
      "text/plain": [
       "<Figure size 432x288 with 1 Axes>"
      ]
     },
     "metadata": {
      "needs_background": "light"
     },
     "output_type": "display_data"
    }
   ],
   "source": [
    "# Llamamos la funcion hist de la biblioteca matplotlib.pyplot que importamos al inicio\n",
    "\n",
    "# bins = auto para dejar que la libreria haga el calculo del numero de clases y podamos comparlo\n",
    "# rwidth = 0.9 para que las barras del grafico queden separadas una de la otra\n",
    "plt.hist(porosidad, bins=\"auto\" , rwidth=0.9)\n",
    "# plot.kde - kernel density equivalent realiza una grafica ajustada al comportamiento de los datos, por el momento no \n",
    "# profundizaremos en este tema\n",
    "porosidad.plot.kde(bw_method='silverman')\n",
    "plt.title(\"Histograma Porosidad\")\n",
    "plt.xlabel('Clases')\n",
    "plt.ylabel('Frecuencia')\n",
    "# el parametro de aplpha = 0.75 se pone para visualizar una rejilla en la grafica\n",
    "plt.grid(alpha=0.75)"
   ]
  },
  {
   "cell_type": "markdown",
   "metadata": {},
   "source": [
    "**Histograma inicial**\n",
    "\n",
    "Como podemos observar el histograma por sí solo no nos proporciona mayor información respecto a la distribución de los datos. La aplicación de esta librería retorna una información que podremos utilizar para el análisis de la información, pero debe ser extraída y manipulada manualmente. Pueden encontrar mayor información sobre la librería en la siguiente dirección: https://matplotlib.org/api/_as_gen/matplotlib.pyplot.hist.html#matplotlib.pyplot.hist\n",
    "\n",
    "Para facilitar el análisis procederemos a crear una función que construya la misma grafica pero que exporte la información en forma de tabla con el fin de realizar el análisis de la distribución de los datos.\n"
   ]
  },
  {
   "cell_type": "code",
   "execution_count": 6,
   "metadata": {},
   "outputs": [],
   "source": [
    "# A continuacion se define una funcion para construir el histrograma de frecuencia, con el objetivo de exporta una tabla de \n",
    "# resultados para su posterior analisis. \n",
    "\n",
    "def histo_frec(data, nombre):\n",
    "    #Definimos variables globales, esta variable sera el dataframe que contendra la tabla de resultados del histrograma\n",
    "    global matrix_frame_frec\n",
    "    # Definimos la cantidad de elementos\n",
    "    cant_elemt = data.count()\n",
    "    # Definimos el numero de clases\n",
    "    k = round(mth.sqrt(cant_elemt))\n",
    "       \n",
    "    # Definimos parametros basicos del histograma, tanto por puntos como por densidad de poblacion\n",
    "    n, bins = np.histogram(data, bins=k)\n",
    "    m, bins2 = np.histogram(data, bins=k, density=True)\n",
    "    \n",
    "    # Creamos variable para almacenar las clases\n",
    "    clases=[]\n",
    "    # Creamos variable para almacenar la tabla de resultados\n",
    "    matrix =[]\n",
    "    #Calculamos la probabilida de ocurrencia de los eventos\n",
    "    prob =n/cant_elemt\n",
    "    # Construimos el array de clases\n",
    "    for i in range(0,k):\n",
    "        par_val=(round(bins[i],4),round(bins[i+1],4))\n",
    "        clases.append(par_val)\n",
    "    # Construmios la tabla de datos almacenandola en la matrix\n",
    "    for i in range(0,k):\n",
    "        diccionario ={\"Clases\":clases[i],\"# Puntos\":n[i],\"Probabilidad\":round(prob[i],4), \"Densidad\":m[i]}\n",
    "        matrix.append(diccionario)\n",
    "    matrix_frame_frec = pd.DataFrame(matrix)\n",
    "    \n",
    "    #Construimos el histograma\n",
    "    plt.hist(data, bins=k , density = True, rwidth=0.9)\n",
    "    data.plot.kde(bw_method='silverman')\n",
    "    plt.title(nombre)\n",
    "    plt.xlabel('Clases')\n",
    "    plt.ylabel('Frecuencia')\n",
    "    plt.grid(alpha=0.75)\n",
    "    \n",
    "    \n",
    "    return plt.show(), matrix_frame_frec"
   ]
  },
  {
   "cell_type": "code",
   "execution_count": 7,
   "metadata": {},
   "outputs": [
    {
     "data": {
      "image/png": "[encoded data removed]",
      "text/plain": [
       "<Figure size 432x288 with 1 Axes>"
      ]
     },
     "metadata": {
      "needs_background": "light"
     },
     "output_type": "display_data"
    },
    {
     "data": {
      "text/plain": [
       "(None,\n",
       "              Clases  # Puntos  Probabilidad   Densidad\n",
       " 0  (0.1649, 0.1728)         1        0.0101   1.283483\n",
       " 1  (0.1728, 0.1806)         1        0.0101   1.283483\n",
       " 2  (0.1806, 0.1885)         4        0.0404   5.133931\n",
       " 3  (0.1885, 0.1964)         3        0.0303   3.850449\n",
       " 4  (0.1964, 0.2042)         6        0.0606   7.700897\n",
       " 5  (0.2042, 0.2121)        10        0.1010  12.834829\n",
       " 6    (0.2121, 0.22)        16        0.1616  20.535726\n",
       " 7    (0.22, 0.2279)        20        0.2020  25.669657\n",
       " 8  (0.2279, 0.2357)        23        0.2323  29.520106\n",
       " 9  (0.2357, 0.2436)        15        0.1515  19.252243)"
      ]
     },
     "execution_count": 7,
     "metadata": {},
     "output_type": "execute_result"
    }
   ],
   "source": [
    "# Ejecutamos la funcion histo_frec y le pasamos la data porosidad y el nombre que le pondremos a la grafica.\n",
    "histo_frec(porosidad, \"Histograma de Porosidad\")"
   ]
  },
  {
   "cell_type": "markdown",
   "metadata": {},
   "source": [
    "***Analisis del histrograma de frecuencias***\n",
    "\n",
    "Del histograma de frecuencias construido para la variable aleatoria “Porosidad” podemos inferir lo siguiente:\n",
    "\n",
    "1. p(Poro = 0.21 micras ) = 12 %  (probabilidad de que la porosidad tome el valor de 0,21 micras )\n",
    "2. p(Poro = 0.21 micras ) = 16 % (probabilidad de que la porosidad tome el valor de 0,22 micras\n",
    "3. p(0.2279 ≤ P < 0.2357  micras) = 29.5% (probabilidad de que la porosidad tome valores mayores o iguales a 0.2279 micras y menores de 0.2357 micras )\n",
    "4. El 43% de probabilidad de ocurrencia está ubicado en el rango que va desde 0.22 hasta 0.2357 micras"
   ]
  },
  {
   "cell_type": "markdown",
   "metadata": {},
   "source": [
    "**2. Histograma de frecuencia acumulado**\n",
    "\n",
    "\n",
    "En ocasiones estamos interesados en contestar preguntas como:\n",
    "\n",
    "¿Cuál es la probabilidad de que X tome un valor menor o igual a determinado valor?\n",
    "\n",
    "Para contestar esta pregunta es conveniente organizar gráficamente la información en la forma de un Histograma Acumulado Directo. De igual manera para facilitar el análisis de la información crearemos una función que grafique el histograma acumulado y nos entregue la información en forma de tabla para su posterior análisis. "
   ]
  },
  {
   "cell_type": "code",
   "execution_count": 8,
   "metadata": {},
   "outputs": [],
   "source": [
    "# A continuacion se define una funcion para construir el histrograma acumulado, con el objetivo de exporta una tabla de \n",
    "# resultados para su posterior analisis. \n",
    "\n",
    "def histo_cum(data, nombre):\n",
    "    #Definimos variables globales, esta variable sera el dataframe que contendra la tabla de resultados del histrograma\n",
    "    global hmatrix_frame_cum\n",
    "    # Definimos la cantidad de elementos\n",
    "    cant_elemt = data.count()\n",
    "    # Definimos el numero de clases\n",
    "    k = round(mth.sqrt(cant_elemt))\n",
    "    # Definimos parametros basicos del histograma, tanto por puntos como por densidad de poblacion\n",
    "    n, bins = np.histogram(data, bins=k)\n",
    "    a =plt.hist(data, bins=\"auto\" , density = True, cumulative= True, rwidth=0.9)\n",
    "    cum =a[0]\n",
    "    # Creamos variable para almacenar las clases\n",
    "    clases=[]\n",
    "    # Creamos variable para almacenar la tabla de resultados\n",
    "    matrix =[]\n",
    "    # Construimos el array de clases\n",
    "    for i in range(0,k):\n",
    "        par_val=(round(bins[i],4),round(bins[i+1],4))\n",
    "        clases.append(par_val)\n",
    "    for i in range(0,k):\n",
    "        diccionario ={\"Clases\":clases[i],\"# Puntos\":n[i],\"Probabilidad\":cum[i]}\n",
    "        matrix.append(diccionario)\n",
    "    matrix_frame_cum = pd.DataFrame(matrix)\n",
    "   \n",
    "    #Construimos el histograma\n",
    "    plt.title(nombre)\n",
    "    plt.xlabel('Clases')\n",
    "    plt.ylabel('Frecuencia')\n",
    "    plt.grid(alpha=0.75)\n",
    "\n",
    "    return plt.show(), matrix_frame_cum"
   ]
  },
  {
   "cell_type": "code",
   "execution_count": 9,
   "metadata": {},
   "outputs": [
    {
     "data": {
      "image/png": "[encoded data removed]",
      "text/plain": [
       "<Figure size 432x288 with 1 Axes>"
      ]
     },
     "metadata": {
      "needs_background": "light"
     },
     "output_type": "display_data"
    },
    {
     "data": {
      "text/plain": [
       "(None,\n",
       "              Clases  # Puntos  Probabilidad\n",
       " 0  (0.1649, 0.1728)         1      0.010101\n",
       " 1  (0.1728, 0.1806)         1      0.020202\n",
       " 2  (0.1806, 0.1885)         4      0.060606\n",
       " 3  (0.1885, 0.1964)         3      0.090909\n",
       " 4  (0.1964, 0.2042)         6      0.151515\n",
       " 5  (0.2042, 0.2121)        10      0.252525\n",
       " 6    (0.2121, 0.22)        16      0.414141\n",
       " 7    (0.22, 0.2279)        20      0.616162\n",
       " 8  (0.2279, 0.2357)        23      0.848485\n",
       " 9  (0.2357, 0.2436)        15      1.000000)"
      ]
     },
     "execution_count": 9,
     "metadata": {},
     "output_type": "execute_result"
    }
   ],
   "source": [
    "histo_cum(porosidad,\"Histograma Acumulado Porosidad\")"
   ]
  },
  {
   "cell_type": "markdown",
   "metadata": {},
   "source": [
    "Del Histograma Acumulado Directo construido para la variable aleatoria “Porosidad” podemos inferir entre otras cosas, lo siguiente:\n",
    "\n",
    "1.\tp(P ≤ 0.2436 micras ) = 100% (probabilidad de que porosidad tome valores menores o iguales de 0.2436 micras es de 100%)\n",
    "2.\tp(P ≤ 0.2279 micras ) = 84.84% (probabilidad de que la porosidad tome valores menores o iguales de 0.2279 micras es de 85%)\n",
    "3.\tp(P> 0.2279 micras)= 1-0.8484 =0.1516 =15.16% (probabilidad de que la porosidad tome valores mayores a 0.2279 micras es de 15.16%)\n"
   ]
  },
  {
   "cell_type": "markdown",
   "metadata": {},
   "source": [
    "**3. Medidas de Posición o Tendencia Central (Media, Mediana y Moda)**\n",
    "\n",
    "Una distribución se caracteriza, en general, por medio de tres criterios:\n",
    "\n",
    "1. El valor central o medida de posición (la media, la mediana o la moda).\n",
    "2. Una cantidad que expresa el grado de dispersión (la desviación estándar).\n",
    "3. La forma de la curva, es decir, la forma general de la distribución probabilística.\n"
   ]
  },
  {
   "cell_type": "markdown",
   "metadata": {},
   "source": [
    "**3.1 Media**\n",
    "\n",
    "La media o valor esperado es una idea fundamental en el estudio de las distribuciones de probabilidad que expresa básicamente la tendencia central o posición de la distribución. Como se muestra en la figura anterior, la media no es necesariamente el valor de mayor probabilidad de ocurrencia (como suele interpretarse de manera errónea); la media es “el centro de gravedad” de una distribución. Adicional a “esperanza matemática” o “valor esperado”, otros nombres comúnmente usados para referirse a la media son “average”, “promedio” y “centro de gravedad”."
   ]
  },
  {
   "cell_type": "code",
   "execution_count": 10,
   "metadata": {},
   "outputs": [
    {
     "data": {
      "text/plain": [
       "0.22047878787878786"
      ]
     },
     "execution_count": 10,
     "metadata": {},
     "output_type": "execute_result"
    }
   ],
   "source": [
    "# Procedemos a calcular la media de la \"Porosidad\"\n",
    "media_poro= porosidad.mean()\n",
    "media_poro"
   ]
  },
  {
   "attachments": {},
   "cell_type": "markdown",
   "metadata": {},
   "source": [
    "El valor promedio obtenido de porosida se ubica en el intervalo No 7 donde la probabilidad de ocurrencia es del 20%. Sin embargo los valores de mayor probabilidad se encuentran en el intervalo No 8 donde la probabilidad de ocurrencia es un poco mayor. "
   ]
  },
  {
   "attachments": {},
   "cell_type": "markdown",
   "metadata": {},
   "source": [
    "**2.2.2 Mediana**\n",
    "\n",
    "La Mediana, es otra de las medidas o valores indicativos de la tendencia central de una distribución. Formalmente se define a la “Mediana” como el valor “x50%” que tiene una probabilidad acumulada de 50%; en otras palabras, la mediana es un valor de la variable aleatoria tal que el 50% de los probables valores de “X” serán menores o iguales de dicho valor y el otro 50% serán mayores.\n",
    "\n",
    "La principal diferencia entre el comportamiento de la media y la mediana está relacionada con los valores atípicos o extremos del conjunto de datos. La media se ve muy afectada por los valores atípicos, pero la mediana solo depende de los valores atípicos, ya sea ligeramente o nada. "
   ]
  },
  {
   "cell_type": "code",
   "execution_count": 11,
   "metadata": {},
   "outputs": [
    {
     "data": {
      "text/plain": [
       "0.2238"
      ]
     },
     "execution_count": 11,
     "metadata": {},
     "output_type": "execute_result"
    }
   ],
   "source": [
    "# Procedemos a calculas la mediana de la \"Porosidad\"\n",
    "median_poro= porosidad.median()\n",
    "median_poro"
   ]
  },
  {
   "cell_type": "markdown",
   "metadata": {},
   "source": [
    "El valor de la mediana es de 0.2238, siendo levemente mayor al promedio obtenido anteriormente de 0.2204 ubicándose en el mismo grupo No 7 de datos con la misma probabilidad de ocurrencia. Una diferencia tan pequeña entre estos dos parámetros, como veremos más adelante significa que los datos tienen una varianza muy pequeña, su desviación estándar será de poca incertidumbre y el ancho de los datos pequeños por lo que se puede confiar en la veracidad de los mismos ya que todos se relacionan directamente al proceso físico que estamos analizando sin que hubieran fallas en el método de detección que pudieran alterar los datos."
   ]
  },
  {
   "cell_type": "markdown",
   "metadata": {},
   "source": [
    "**2.2.3 Moda**\n",
    "La Moda, es también una medida que indica la tendencia central de una distribución. Formalmente se define como el valor xm de la variable aleatoria X, que tiene la mayor probabilidad de ocurrencia. Enla figura de introduccion del punto 2 se puede observar la representacion grafica del valor de la moda.  Si no hay un solo valor, el conjunto es multimodal ya que tiene múltiples valores modales. Por ejemplo, en el conjunto que contiene los puntos 2, 3, 2, 8 y 12, el número 2 es el modo porque ocurre dos veces, a diferencia de los otros elementos que ocurren solo una vez."
   ]
  },
  {
   "cell_type": "code",
   "execution_count": 12,
   "metadata": {},
   "outputs": [
    {
     "data": {
      "text/plain": [
       "0    0.2198\n",
       "1    0.2240\n",
       "2    0.2298\n",
       "3    0.2315\n",
       "4    0.2319\n",
       "5    0.2321\n",
       "6    0.2331\n",
       "dtype: float64"
      ]
     },
     "execution_count": 12,
     "metadata": {},
     "output_type": "execute_result"
    }
   ],
   "source": [
    "# Como puede ver, .mode () devuelve un nuevo pd.Series que contiene todos los valores modales.\n",
    "moda_poro= porosidad.mode()\n",
    "moda_poro"
   ]
  },
  {
   "attachments": {},
   "cell_type": "markdown",
   "metadata": {},
   "source": [
    "En cuanto a la moda, el software nos devuelve un listado de 7 diferentes puntos donde se encontraron la mayor cantidad de coincidencias. De los 7 datos, 6 se encuentran en los intervalos de mayor probabilidad de ocurrencia y al no tener un solo parametro de media nos corrobora que estamos analizando un proceso natural totalmente aleatorio, pero que nos permitira, en este caso, caracterizar la porosidad esperada del yacimiento evaluado. Como veremos mas adelante al verificar los datos completos, existe una correlacion estre la porosidad y el nivel de arena esperado que nos permitira comparar este yacimiento con muchos otros para determinar el potencial del mismo. "
   ]
  },
  {
   "cell_type": "markdown",
   "metadata": {},
   "source": [
    "**2.3 Medidas de Dispersión**\n",
    "\n",
    "La dispersión de una distribución de probabilidad puede considerarse la característica más importante de la misma ya que en ella esta retratada la información sobre la incertidumbre de la variable random en estudio. En otras palabras, la dispersión es un indicativo de la incertidumbre relacionada con la variable; por ello, al cuantificar la dispersión estamos cuantificando el nivel de incertidumbre de la variable en análisis.\n",
    "\n",
    "Las decisiones que se toman en relación con variables random serán más difíciles, en la medida en que las variables tengan un mayor grado de dispersión, y viceversa, serán más fáciles en la medida en que las variables sean menos dispersas.\n",
    "\n",
    "\n",
    "En esta sección, aprenderá a identificar y calcular las siguientes medidas de dispercion:\n",
    "\n",
    "* Varianza\n",
    "* Desviación Estándar\n",
    "* Coeficiente de Variación\n",
    "* Asimetria estadistica\n",
    "* Percentiles\n",
    "* Rangos"
   ]
  },
  {
   "attachments": {},
   "cell_type": "markdown",
   "metadata": {},
   "source": [
    "**2.3.1 Varianza**\n",
    "\n",
    "La varianza de la muestra cuantifica la propagación de los datos. Muestra numéricamente cuán lejos están los puntos de datos de la media. Puede expresar la varianza muestral del conjunto de datos 𝑥 con 𝑛 elementos matemáticamente como 𝑠² = Σᵢ (𝑥ᵢ - mean (𝑥)) ² / (𝑛 - 1), donde 𝑖 = 1, 2, ..., 𝑛 y media (𝑥) es la media muestral de 𝑥. Si desea comprender más profundamente por qué divide la suma con 𝑛 - 1 en lugar de 𝑛, puede profundizar en https://en.wikipedia.org/wiki/Bessel%27s_correction"
   ]
  },
  {
   "cell_type": "code",
   "execution_count": 13,
   "metadata": {},
   "outputs": [
    {
     "data": {
      "text/plain": [
       "(0.0002606439332096475, 0.00025801116620752983)"
      ]
     },
     "execution_count": 13,
     "metadata": {},
     "output_type": "execute_result"
    }
   ],
   "source": [
    "\"\"\"Calcula la varianza de la población de manera similar a la varianza de la muestra. Sin embargo, debe usar 𝑛 en el denominador\n",
    "en lugar de 𝑛 - 1: Σᵢ (𝑥ᵢ - mean (𝑥)) ² / 𝑛. En este caso, 𝑛 es el número de elementos en toda la población. para realizar esto\n",
    "en Pandas utilizamos el parametro ddof=0\"\"\"\n",
    "var_muestra = porosidad.var()\n",
    "var_poblacion = porosidad.var(ddof=0)\n",
    "var_muestra,var_poblacion"
   ]
  },
  {
   "cell_type": "markdown",
   "metadata": {},
   "source": [
    "Independiente del resultado, entre menor es el valor de la varianza, menor es la dispersión que hay entre los datos. Para el caso de estudio, el resultado indica que los datos están muy concentrados tal y como se encontró en el histograma, donde el 60% de los datos se concentra en los intervalos 6, 7, 8, lo cual a su vez permite caracterizar el yacimiento según su porosidad."
   ]
  },
  {
   "attachments": {},
   "cell_type": "markdown",
   "metadata": {},
   "source": [
    "**2.3.2 Desviación Estándar**\n",
    "\n",
    "La medida de dispersión más útil es la desviación estándar ( σ ), la cual se corresponde a la raíz cuadrada de varianza (Var(x)). \n",
    "\n",
    "Var(x)= σ2  "
   ]
  },
  {
   "cell_type": "code",
   "execution_count": 14,
   "metadata": {},
   "outputs": [
    {
     "data": {
      "text/plain": [
       "0.016144470669850017"
      ]
     },
     "execution_count": 14,
     "metadata": {},
     "output_type": "execute_result"
    }
   ],
   "source": [
    "# Calculamos la desviación estándar\n",
    "stand_dev= porosidad.std()\n",
    "stand_dev"
   ]
  },
  {
   "cell_type": "markdown",
   "metadata": {},
   "source": [
    "Al igual que con la varianza, entre menor sea el resulado menor la dispersion de los datos. Considere +-10% del valor de la mediana encontrada con anterioridad, que nos daria el intervalo de 0.2014 - 0,2462 micras. Sumando el resultado de la desviacion estandar a la mediana encontramos un valor de 0,2398 micras lo cual nos indica que el valor de la desviacion estandar del set de datos analizados, en general,  es levemente menor al 10%. "
   ]
  },
  {
   "cell_type": "markdown",
   "metadata": {},
   "source": [
    "**2.3.3 Coeficiente de Variación**\n",
    "\n",
    "El Coeficiente de Variación, es una medida de dispersión alternativa, de uso común, que se define como un cociente donde el numerador es la desviación estándar y el denominador es la media. Éste es una medida de dispersión de la distribución relativa a la media.\n",
    "\n",
    "Coeficiente de Variación(x)=  ρx = μ/ σ"
   ]
  },
  {
   "cell_type": "code",
   "execution_count": 15,
   "metadata": {},
   "outputs": [
    {
     "data": {
      "text/plain": [
       "7.322459827167467"
      ]
     },
     "execution_count": 15,
     "metadata": {},
     "output_type": "execute_result"
    }
   ],
   "source": [
    "# Calculamos el coeficiente de variación \n",
    "coef_var= stand_dev/media_poro *100\n",
    "coef_var"
   ]
  },
  {
   "cell_type": "markdown",
   "metadata": {},
   "source": [
    "Al igual que la desviación estándar el coeficiente de variación indica un % de variabilidad entre los datos. Para el caso en particular la variación entre los datos es del 7.32%; al compararlo con la desviación estándar obtenemos que son datos muy similares, por ende, es una medida para corroborar la desviación estándar. El cálculo de este parámetro no está incluido en ninguna de las librerías de Python, no obstante al ser tan sencillo de calcular se hace de manera manual. "
   ]
  },
  {
   "attachments": {},
   "cell_type": "markdown",
   "metadata": {},
   "source": [
    "**2.3.4 Asimetría estadistica**\n",
    "\n",
    "La asimetría estadistica de la muestra mide la asimetría con relacion a un punto cero de una muestra de datos. El valor de la asimetria es positivo o negativo, dependiendo de a donde se inclinen los datos respecto al punto cero o la mediana.\n",
    "\n",
    "Hay varias definiciones matemáticas de asimetría. Una expresión común para calcular la asimetría del conjunto de datos 𝑥 con 𝑛 elementos es (𝑛² / ((𝑛 - 1) (𝑛 - 2))) (Σᵢ (𝑥ᵢ - mean (𝑥)) ³ / (𝑛𝑠³)). \n",
    "\n",
    "Una expresión más simple es Σᵢ (𝑥ᵢ - media (𝑥)) ³ 𝑛 / ((𝑛 - 1) (𝑛 - 2) 𝑠³), donde 𝑖 = 1, 2, ..., 𝑛 y media (𝑥) es la media muestral de 𝑥. La asimetría definida de esta manera se denomina al coeficiente de momento estandarizado de Fisher-Pearson ajustado."
   ]
  },
  {
   "cell_type": "code",
   "execution_count": 16,
   "metadata": {},
   "outputs": [
    {
     "data": {
      "text/plain": [
       "-1.0695680366384361"
      ]
     },
     "execution_count": 16,
     "metadata": {},
     "output_type": "execute_result"
    }
   ],
   "source": [
    "# Calculamos la asimetría de la distribución\n",
    "skew = porosidad.skew()\n",
    "skew"
   ]
  },
  {
   "attachments": {},
   "cell_type": "markdown",
   "metadata": {},
   "source": [
    "El resultado negativo signigica que existe una cola asimetrica en el lado izquierdo en la distribucion de los datos en relacion a la mediana encontrada. Esta cola asimetrica corresponde a los datos de las clases 0 a la 6 que dan como resultado una probabilidad de ocurrencia del 16% y como veremos mas adelante se convienrten en el % de error que podriamos esperar en los datos."
   ]
  },
  {
   "cell_type": "markdown",
   "metadata": {},
   "source": [
    "**2.3.5 Percentiles**\n",
    "\n",
    "El 𝑝 percentil de muestra es el elemento en el conjunto de datos de tal manera que 𝑝% de los elementos en el conjunto de datos son menores o iguales a ese valor. Además, (100 - 𝑝)% de los elementos son mayores o iguales a ese valor. Si hay dos de estos elementos en el conjunto de datos, entonces el percentil de la muestra es su media aritmética. Cada conjunto de datos tiene tres cuartiles, que son los percentiles que dividen el conjunto de datos en cuatro partes:\n",
    "\n",
    "* El primer cuartil es el percentil 25 de la muestra. Divide aproximadamente el 25% de los elementos más pequeños del resto del conjunto de datos.\n",
    "* El segundo cuartil es el percentil 50 de la muestra o la mediana. Aproximadamente el 25% de los datoss se encuentran entre el primer y el segundo cuartil y otro 25% entre el segundo y el tercer cuartil.\n",
    "* El tercer cuartil es el percentil 75 de la muestra. Divide aproximadamente el 25% de los datos más grandes del resto del conjunto de datos.\n",
    "\n",
    "A continuacion revisaremos como realizar esta funcion en Python bajo la libreria Pandas:"
   ]
  },
  {
   "cell_type": "code",
   "execution_count": 17,
   "metadata": {},
   "outputs": [
    {
     "data": {
      "text/plain": [
       "0.25    0.21205\n",
       "0.50    0.22380\n",
       "0.75    0.23200\n",
       "Name: POROSIDAD, dtype: float64"
      ]
     },
     "execution_count": 17,
     "metadata": {},
     "output_type": "execute_result"
    }
   ],
   "source": [
    "# A continuación se calculan los percentiles de la lista\n",
    "list_per = [0.25, 0.5, 0.75]\n",
    "percentil = porosidad.quantile(list_per)\n",
    "percentil"
   ]
  },
  {
   "attachments": {},
   "cell_type": "markdown",
   "metadata": {},
   "source": [
    "**2.3.6 Intervalo de Confianza**\n",
    "\n",
    "Cuando se hacen estimaciones o pronósticos de variables random, esta estimación básicamente consiste en ***determinar la distribución de probabilidades*** que representa a la variable de interés. En estos casos, nuestra estimación no debe expresarse como un solo valor estimado (para lo cual normalmente se utiliza el valor más probable o la media “ μ ” de la distribución); sino también la precisión de esa estimación.\n",
    "\n",
    "Una forma conveniente de expresar la precisión consiste en especificar unos límites que, con una probabilidad dada, incluyan el valor verdadero de la variable. Dichos límites se denominan \"límites de confianza\", es decir, son límites que abarcan un intervalo dentro del cual podemos decir que se encuentra el valor verdadero con un cierto “grado de confianza”. Cuanto más distantes estén los límites entre sí, tanto mayor será la probabilidad de que incluyan el valor verdadero, pero más amplio será el rango de variación. El intervalo comprendido entre ambos límites se denomina intervalo de confianza.\n",
    "\n",
    "Existen tres formas típicas para expresar una estimación sobre una variable random o aleatoria:\n",
    "1. La Distribución Probabilística Completa.\n",
    "2. Un rango de variación de la variable con su grado de certeza.\n",
    "Ejemplo: “X” varia entre “xa” y “xb” con (α=100) % de certeza).\n",
    "3.\tUn estimado puntual (la media o la moda de la distribución).\n",
    "Ejemplo X=μ\n",
    "\n",
    "Las formas “1” y “2” ofrecen información más fidedigna de la realidad.\n",
    "\n",
    "En el momento no contamos con la distribución probabilística que se ajuste a nuestros datos, este análisis se realizara en la segunda etapa de análisis de los datos. Sin embargo, podemos realizar una deducción de un rango de variación a partir del histograma de frecuencias analizado al comienzo de este ejercicio para su análisis."
   ]
  },
  {
   "cell_type": "code",
   "execution_count": 18,
   "metadata": {},
   "outputs": [
    {
     "data": {
      "text/html": [
       "<div>\n",
       "<style scoped>\n",
       "    .dataframe tbody tr th:only-of-type {\n",
       "        vertical-align: middle;\n",
       "    }\n",
       "\n",
       "    .dataframe tbody tr th {\n",
       "        vertical-align: top;\n",
       "    }\n",
       "\n",
       "    .dataframe thead th {\n",
       "        text-align: right;\n",
       "    }\n",
       "</style>\n",
       "<table border=\"1\" class=\"dataframe\">\n",
       "  <thead>\n",
       "    <tr style=\"text-align: right;\">\n",
       "      <th></th>\n",
       "      <th>Clases</th>\n",
       "      <th># Puntos</th>\n",
       "      <th>Probabilidad</th>\n",
       "      <th>Densidad</th>\n",
       "    </tr>\n",
       "  </thead>\n",
       "  <tbody>\n",
       "    <tr>\n",
       "      <th>0</th>\n",
       "      <td>(0.1649, 0.1728)</td>\n",
       "      <td>1</td>\n",
       "      <td>0.0101</td>\n",
       "      <td>1.283483</td>\n",
       "    </tr>\n",
       "    <tr>\n",
       "      <th>1</th>\n",
       "      <td>(0.1728, 0.1806)</td>\n",
       "      <td>1</td>\n",
       "      <td>0.0101</td>\n",
       "      <td>1.283483</td>\n",
       "    </tr>\n",
       "    <tr>\n",
       "      <th>2</th>\n",
       "      <td>(0.1806, 0.1885)</td>\n",
       "      <td>4</td>\n",
       "      <td>0.0404</td>\n",
       "      <td>5.133931</td>\n",
       "    </tr>\n",
       "    <tr>\n",
       "      <th>3</th>\n",
       "      <td>(0.1885, 0.1964)</td>\n",
       "      <td>3</td>\n",
       "      <td>0.0303</td>\n",
       "      <td>3.850449</td>\n",
       "    </tr>\n",
       "    <tr>\n",
       "      <th>4</th>\n",
       "      <td>(0.1964, 0.2042)</td>\n",
       "      <td>6</td>\n",
       "      <td>0.0606</td>\n",
       "      <td>7.700897</td>\n",
       "    </tr>\n",
       "    <tr>\n",
       "      <th>5</th>\n",
       "      <td>(0.2042, 0.2121)</td>\n",
       "      <td>10</td>\n",
       "      <td>0.1010</td>\n",
       "      <td>12.834829</td>\n",
       "    </tr>\n",
       "    <tr>\n",
       "      <th>6</th>\n",
       "      <td>(0.2121, 0.22)</td>\n",
       "      <td>16</td>\n",
       "      <td>0.1616</td>\n",
       "      <td>20.535726</td>\n",
       "    </tr>\n",
       "    <tr>\n",
       "      <th>7</th>\n",
       "      <td>(0.22, 0.2279)</td>\n",
       "      <td>20</td>\n",
       "      <td>0.2020</td>\n",
       "      <td>25.669657</td>\n",
       "    </tr>\n",
       "    <tr>\n",
       "      <th>8</th>\n",
       "      <td>(0.2279, 0.2357)</td>\n",
       "      <td>23</td>\n",
       "      <td>0.2323</td>\n",
       "      <td>29.520106</td>\n",
       "    </tr>\n",
       "    <tr>\n",
       "      <th>9</th>\n",
       "      <td>(0.2357, 0.2436)</td>\n",
       "      <td>15</td>\n",
       "      <td>0.1515</td>\n",
       "      <td>19.252243</td>\n",
       "    </tr>\n",
       "  </tbody>\n",
       "</table>\n",
       "</div>"
      ],
      "text/plain": [
       "             Clases  # Puntos  Probabilidad   Densidad\n",
       "0  (0.1649, 0.1728)         1        0.0101   1.283483\n",
       "1  (0.1728, 0.1806)         1        0.0101   1.283483\n",
       "2  (0.1806, 0.1885)         4        0.0404   5.133931\n",
       "3  (0.1885, 0.1964)         3        0.0303   3.850449\n",
       "4  (0.1964, 0.2042)         6        0.0606   7.700897\n",
       "5  (0.2042, 0.2121)        10        0.1010  12.834829\n",
       "6    (0.2121, 0.22)        16        0.1616  20.535726\n",
       "7    (0.22, 0.2279)        20        0.2020  25.669657\n",
       "8  (0.2279, 0.2357)        23        0.2323  29.520106\n",
       "9  (0.2357, 0.2436)        15        0.1515  19.252243"
      ]
     },
     "execution_count": 18,
     "metadata": {},
     "output_type": "execute_result"
    }
   ],
   "source": [
    "# Se muestra la tabla de frecuencias de la función Histograma\n",
    "\n",
    "matrix_frame_frec"
   ]
  },
  {
   "cell_type": "markdown",
   "metadata": {},
   "source": [
    "Para el presente set de datos podemos deducir que:\n",
    "\n",
    "**El valor esperado X variará entre 0.2042 - 0.2436 micras con un nivel de confianza del 84% y un respectivo marjen de error del 16%.**\n",
    "\n",
    "Aunque no es un dato muy acertado, esta evaluacion se ajusta a la distribucion de los datos en el histograma; para dar un dato mas preciso necesitamos hallar el modelo de distribucion que se ajusta a los datos, lo cual realizaremos en una segunda fase de aprendisaje. "
   ]
  },
  {
   "cell_type": "markdown",
   "metadata": {},
   "source": [
    "**3. Resumen de estadísticas descriptivas**\n",
    "\n",
    "A lo largo del presente articulo hemos visto como calcular individualmente los parametros estadisticos mas comunes al analizar un set de datos, sin embargo las librerias como Pandas y SciPy ofrecen rutinas útiles para obtener rápidamente estadísticas descriptivas con una sola función o llamada de método de la siguinte manera:"
   ]
  },
  {
   "cell_type": "code",
   "execution_count": 19,
   "metadata": {},
   "outputs": [
    {
     "data": {
      "text/plain": [
       "count    99.000000\n",
       "mean      0.220479\n",
       "std       0.016144\n",
       "min       0.164900\n",
       "25%       0.212050\n",
       "50%       0.223800\n",
       "75%       0.232000\n",
       "max       0.243600\n",
       "Name: POROSIDAD, dtype: float64"
      ]
     },
     "execution_count": 19,
     "metadata": {},
     "output_type": "execute_result"
    }
   ],
   "source": [
    "# Llamamos la función describe para la variable porosidad\n",
    "porosidad.describe()"
   ]
  },
  {
   "cell_type": "markdown",
   "metadata": {},
   "source": [
    "**4. Literatura utilizada**\n",
    "\n",
    "Para la elaboración del presente documento se utilizaron muchas fuentes bibliográficas pero en especial las siguientes:\n",
    "\n",
    "Libros:\n",
    " * Confiabilidad Integral, un enfoque práctico, R2M S.A\n",
    " \n",
    " Artículos:\n",
    " * Python Statistics Fundamentals: How to Describe Your Data - https://realpython.com/python-statistics/\n",
    " \n",
    " Documentación:\n",
    " * Toda la documentación de las librerías de SciPy - https://www.scipy.org/docs.html\n"
   ]
  },
  {
   "cell_type": "markdown",
   "metadata": {},
   "source": [
    "_Realizó:_\n",
    "\n",
    "_Javier A. Ochoa M.  \n",
    "Ing. Mecánico especialista en gestión de mantenimiento <br />\n",
    "técnicas de mantenimiento predictivo y confiabilidad integral. <br />\n",
    "+57-3213192915  \n",
    "ruslombia@gmail.com  \n",
    "Bogotá – Colombia_  "
   ]
  }
 ],
 "metadata": {
  "kernelspec": {
   "display_name": "Python 3",
   "language": "python",
   "name": "python3"
  },
  "language_info": {
   "codemirror_mode": {
    "name": "ipython",
    "version": 3
   },
   "file_extension": ".py",
   "mimetype": "text/x-python",
   "name": "python",
   "nbconvert_exporter": "python",
   "pygments_lexer": "ipython3",
   "version": "3.7.6"
  }
 },
 "nbformat": 4,
 "nbformat_minor": 2
}
